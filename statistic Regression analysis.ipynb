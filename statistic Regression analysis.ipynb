{
 "cells": [
  {
   "cell_type": "code",
   "execution_count": 5,
   "id": "b0445e22-f448-4394-9a95-51d51bcaf9cc",
   "metadata": {},
   "outputs": [],
   "source": [
    "import numpy as np \n",
    "import pandas as pd"
   ]
  },
  {
   "cell_type": "code",
   "execution_count": 6,
   "id": "833340df-50a9-489d-8e15-96883dc55e4d",
   "metadata": {},
   "outputs": [],
   "source": [
    "data = {'age':[25,30,35,40,45,50],\n",
    "       'work_exp':[2,5,8,12,16,20]}\n",
    "df = pd.DataFrame(data)"
   ]
  },
  {
   "cell_type": "code",
   "execution_count": 3,
   "id": "5c29faf4-a2d9-4d17-b413-ad6287afda82",
   "metadata": {},
   "outputs": [
    {
     "data": {
      "text/html": [
       "<div>\n",
       "<style scoped>\n",
       "    .dataframe tbody tr th:only-of-type {\n",
       "        vertical-align: middle;\n",
       "    }\n",
       "\n",
       "    .dataframe tbody tr th {\n",
       "        vertical-align: top;\n",
       "    }\n",
       "\n",
       "    .dataframe thead th {\n",
       "        text-align: right;\n",
       "    }\n",
       "</style>\n",
       "<table border=\"1\" class=\"dataframe\">\n",
       "  <thead>\n",
       "    <tr style=\"text-align: right;\">\n",
       "      <th></th>\n",
       "      <th>age</th>\n",
       "      <th>work_exp</th>\n",
       "    </tr>\n",
       "  </thead>\n",
       "  <tbody>\n",
       "    <tr>\n",
       "      <th>0</th>\n",
       "      <td>25</td>\n",
       "      <td>2</td>\n",
       "    </tr>\n",
       "    <tr>\n",
       "      <th>1</th>\n",
       "      <td>30</td>\n",
       "      <td>5</td>\n",
       "    </tr>\n",
       "    <tr>\n",
       "      <th>2</th>\n",
       "      <td>35</td>\n",
       "      <td>8</td>\n",
       "    </tr>\n",
       "    <tr>\n",
       "      <th>3</th>\n",
       "      <td>40</td>\n",
       "      <td>12</td>\n",
       "    </tr>\n",
       "    <tr>\n",
       "      <th>4</th>\n",
       "      <td>45</td>\n",
       "      <td>16</td>\n",
       "    </tr>\n",
       "    <tr>\n",
       "      <th>5</th>\n",
       "      <td>50</td>\n",
       "      <td>20</td>\n",
       "    </tr>\n",
       "  </tbody>\n",
       "</table>\n",
       "</div>"
      ],
      "text/plain": [
       "   age  work_exp\n",
       "0   25         2\n",
       "1   30         5\n",
       "2   35         8\n",
       "3   40        12\n",
       "4   45        16\n",
       "5   50        20"
      ]
     },
     "execution_count": 3,
     "metadata": {},
     "output_type": "execute_result"
    }
   ],
   "source": [
    "df.head(7)"
   ]
  },
  {
   "cell_type": "code",
   "execution_count": 36,
   "id": "f352e2c2-727a-4120-b04f-ed47676fa4d1",
   "metadata": {},
   "outputs": [
    {
     "data": {
      "text/plain": [
       "6"
      ]
     },
     "execution_count": 36,
     "metadata": {},
     "output_type": "execute_result"
    }
   ],
   "source": [
    "n = len(df)\n",
    "n"
   ]
  },
  {
   "cell_type": "code",
   "execution_count": 37,
   "id": "944997f9-d72f-45ae-b60d-f9775a1da426",
   "metadata": {},
   "outputs": [
    {
     "data": {
      "text/plain": [
       "16080"
      ]
     },
     "execution_count": 37,
     "metadata": {},
     "output_type": "execute_result"
    }
   ],
   "source": [
    "sumxy = n * (df['age']  *  df['work_exp']).sum()\n",
    "sumxy"
   ]
  },
  {
   "cell_type": "code",
   "execution_count": 21,
   "id": "01c6522c-f233-4e58-9003-e0bc1b20ce95",
   "metadata": {},
   "outputs": [
    {
     "data": {
      "text/plain": [
       "14175"
      ]
     },
     "execution_count": 21,
     "metadata": {},
     "output_type": "execute_result"
    }
   ],
   "source": [
    "sumxintoy = df['age'].sum()*df['work_exp'].sum()\n",
    "sumxintoy"
   ]
  },
  {
   "cell_type": "code",
   "execution_count": 38,
   "id": "cfbd70b3-7500-4b7b-9cbc-ff329d034b5b",
   "metadata": {},
   "outputs": [],
   "source": [
    "xsqrsum = n * (df['age']**2).sum()"
   ]
  },
  {
   "cell_type": "code",
   "execution_count": 25,
   "id": "38069a21-1f73-45d9-b21f-ed883cba39cf",
   "metadata": {},
   "outputs": [],
   "source": [
    "sumxsqr = (df['age'].sum())**2"
   ]
  },
  {
   "cell_type": "code",
   "execution_count": 39,
   "id": "8a960dbf-5b5c-4378-a79a-26ef515625cd",
   "metadata": {},
   "outputs": [
    {
     "data": {
      "text/plain": [
       "0.7257142857142858"
      ]
     },
     "execution_count": 39,
     "metadata": {},
     "output_type": "execute_result"
    }
   ],
   "source": [
    "slope = (sumxy - sumxintoy) / (xsqrsum - sumxsqr)\n",
    "slope"
   ]
  },
  {
   "cell_type": "code",
   "execution_count": 40,
   "id": "2015c45f-4999-4571-a26c-bbf0b4237c30",
   "metadata": {},
   "outputs": [
    {
     "data": {
      "text/plain": [
       "-16.71428571428572"
      ]
     },
     "execution_count": 40,
     "metadata": {},
     "output_type": "execute_result"
    }
   ],
   "source": [
    "intercept = (df['work_exp'].sum() - slope*df['age'].sum())/ 6\n",
    "intercept"
   ]
  },
  {
   "cell_type": "code",
   "execution_count": 41,
   "id": "827eb707-62dd-4c5d-980c-fb1f75266ebe",
   "metadata": {},
   "outputs": [
    {
     "data": {
      "text/plain": [
       "37.5"
      ]
     },
     "execution_count": 41,
     "metadata": {},
     "output_type": "execute_result"
    }
   ],
   "source": [
    "meanx = df['age'].mean()\n",
    "meany"
   ]
  },
  {
   "cell_type": "code",
   "execution_count": 43,
   "id": "193d6e16-aad0-4ff8-a2de-6bfa1d53a436",
   "metadata": {},
   "outputs": [
    {
     "data": {
      "text/plain": [
       "10.5"
      ]
     },
     "execution_count": 43,
     "metadata": {},
     "output_type": "execute_result"
    }
   ],
   "source": [
    "meany = df['work_exp'].mean()\n",
    "meany"
   ]
  },
  {
   "cell_type": "code",
   "execution_count": 45,
   "id": "892f4614-acd0-468c-bdf6-946817ad5bc6",
   "metadata": {},
   "outputs": [
    {
     "data": {
      "text/plain": [
       "10.862857142857141"
      ]
     },
     "execution_count": 45,
     "metadata": {},
     "output_type": "execute_result"
    }
   ],
   "source": [
    "y = (slope * 38 ) + intercept\n",
    "y"
   ]
  },
  {
   "cell_type": "code",
   "execution_count": null,
   "id": "9057f04f-a571-4257-a857-b07e2cf149ec",
   "metadata": {},
   "outputs": [],
   "source": []
  }
 ],
 "metadata": {
  "kernelspec": {
   "display_name": "Python 3 (ipykernel)",
   "language": "python",
   "name": "python3"
  },
  "language_info": {
   "codemirror_mode": {
    "name": "ipython",
    "version": 3
   },
   "file_extension": ".py",
   "mimetype": "text/x-python",
   "name": "python",
   "nbconvert_exporter": "python",
   "pygments_lexer": "ipython3",
   "version": "3.12.4"
  }
 },
 "nbformat": 4,
 "nbformat_minor": 5
}
