{
 "cells": [
  {
   "cell_type": "code",
   "execution_count": 1,
   "id": "c8035062-945c-4a66-bee5-bdd251ba4eb9",
   "metadata": {},
   "outputs": [],
   "source": [
    "# P- value also known as level of significance\n",
    "# H0 : null hupothesis\n",
    "# Ha : Alternate hypothesis\n",
    "from scipy.stats import shapiro\n",
    "import pandas as pd \n",
    "import numpy as np"
   ]
  },
  {
   "cell_type": "code",
   "execution_count": 2,
   "id": "7b41ead2-224d-4a7e-99db-2b0d4cec70eb",
   "metadata": {},
   "outputs": [
    {
     "name": "stdout",
     "output_type": "stream",
     "text": [
      "0.942483631609765\n",
      "p-value = 0.4898578786426269\n",
      "Data is Normally Distributed \n"
     ]
    }
   ],
   "source": [
    "# Example dataset\n",
    "data = [1,2,4,5,3,6,7,9,9,4,5,3,4]\n",
    "# Perform the Shapiro-Wilk test\n",
    "stat , p = shapiro(data)\n",
    "print(stat)\n",
    "if p > 0.05:\n",
    "    print(f'p-value = {p}')\n",
    "    print(f'Data is Normally Distributed ')\n",
    "else:\n",
    "    print(f'p-value = {p}')\n",
    "    print(f'Data is Not Normally Distributed ')"
   ]
  },
  {
   "cell_type": "code",
   "execution_count": 3,
   "id": "38f2c2df-7437-4b37-92a9-9093ca0ac959",
   "metadata": {},
   "outputs": [
    {
     "name": "stdout",
     "output_type": "stream",
     "text": [
      "0.7603524990926065\n",
      "Data is Normally Distributed 0.6837408895703261\n"
     ]
    },
    {
     "name": "stderr",
     "output_type": "stream",
     "text": [
      "C:\\Users\\dhruv joshi\\conda\\Lib\\site-packages\\scipy\\stats\\_axis_nan_policy.py:531: UserWarning: kurtosistest only valid for n>=20 ... continuing anyway, n=13\n",
      "  res = hypotest_fun_out(*samples, **kwds)\n"
     ]
    }
   ],
   "source": [
    "from scipy.stats import normaltest\n",
    "data = [1,2,4,5,3,6,7,9,9,4,5,3,4]\n",
    "stat , p = normaltest(data)\n",
    "print(stat)\n",
    "if p > 0.05:\n",
    "    print(f'Data is Normally Distributed {p}')\n",
    "else:\n",
    "    print(f'Data is Not Normally Distributed {p}')\n"
   ]
  },
  {
   "cell_type": "code",
   "execution_count": 4,
   "id": "10167eae-7372-46f7-a07c-270e96c4a040",
   "metadata": {},
   "outputs": [
    {
     "name": "stdout",
     "output_type": "stream",
     "text": [
      "Pearson correlation Test:\n",
      "Correlation Coefficient (r) : 1.0000\n",
      "pvalue:  0.0000\n"
     ]
    }
   ],
   "source": [
    "from scipy.stats import pearsonr\n",
    "a = [1,2,3,4,5,6]\n",
    "b = [2,4,6,8,10,12]\n",
    "r , p = pearsonr(a,b)\n",
    "print('Pearson correlation Test:' )\n",
    "print(f'Correlation Coefficient (r) : {r:.4f}')\n",
    "print(f'pvalue: {p : .4f}')\n"
   ]
  },
  {
   "cell_type": "code",
   "execution_count": 5,
   "id": "3f8d17f3-c832-49c8-8fdd-9d3db032af3b",
   "metadata": {},
   "outputs": [
    {
     "name": "stdout",
     "output_type": "stream",
     "text": [
      "Spearman correlation Test:\n",
      "Correlation Coefficient (R) : 1.0000\n",
      "pvalue:  0.0000\n"
     ]
    }
   ],
   "source": [
    "from scipy.stats import spearmanr\n",
    "a = [1,2,3,4,5,6]\n",
    "b = [2,4,6,8,10,12]\n",
    "r , p = spearmanr(a,b)\n",
    "print('Spearman correlation Test:' )\n",
    "print(f'Correlation Coefficient (R) : {r:.4f}')\n",
    "print(f'pvalue: {p : .4f}')"
   ]
  },
  {
   "cell_type": "code",
   "execution_count": 6,
   "id": "028fab3c-fe73-4b72-b3af-b8e8a6456004",
   "metadata": {},
   "outputs": [],
   "source": [
    "data = pd.read_csv('Salary_Data.csv')\n",
    "df = pd.DataFrame(data)"
   ]
  },
  {
   "cell_type": "code",
   "execution_count": 7,
   "id": "005315ae-2c58-42e6-8c9a-e2eb0b672398",
   "metadata": {},
   "outputs": [
    {
     "data": {
      "text/html": [
       "<div>\n",
       "<style scoped>\n",
       "    .dataframe tbody tr th:only-of-type {\n",
       "        vertical-align: middle;\n",
       "    }\n",
       "\n",
       "    .dataframe tbody tr th {\n",
       "        vertical-align: top;\n",
       "    }\n",
       "\n",
       "    .dataframe thead th {\n",
       "        text-align: right;\n",
       "    }\n",
       "</style>\n",
       "<table border=\"1\" class=\"dataframe\">\n",
       "  <thead>\n",
       "    <tr style=\"text-align: right;\">\n",
       "      <th></th>\n",
       "      <th>YearsExperience</th>\n",
       "      <th>Salary</th>\n",
       "    </tr>\n",
       "  </thead>\n",
       "  <tbody>\n",
       "    <tr>\n",
       "      <th>0</th>\n",
       "      <td>1.1</td>\n",
       "      <td>39343.0</td>\n",
       "    </tr>\n",
       "    <tr>\n",
       "      <th>1</th>\n",
       "      <td>1.3</td>\n",
       "      <td>46205.0</td>\n",
       "    </tr>\n",
       "    <tr>\n",
       "      <th>2</th>\n",
       "      <td>1.5</td>\n",
       "      <td>37731.0</td>\n",
       "    </tr>\n",
       "    <tr>\n",
       "      <th>3</th>\n",
       "      <td>2.0</td>\n",
       "      <td>43525.0</td>\n",
       "    </tr>\n",
       "    <tr>\n",
       "      <th>4</th>\n",
       "      <td>2.2</td>\n",
       "      <td>39891.0</td>\n",
       "    </tr>\n",
       "  </tbody>\n",
       "</table>\n",
       "</div>"
      ],
      "text/plain": [
       "   YearsExperience   Salary\n",
       "0              1.1  39343.0\n",
       "1              1.3  46205.0\n",
       "2              1.5  37731.0\n",
       "3              2.0  43525.0\n",
       "4              2.2  39891.0"
      ]
     },
     "execution_count": 7,
     "metadata": {},
     "output_type": "execute_result"
    }
   ],
   "source": [
    "df.head()"
   ]
  },
  {
   "cell_type": "code",
   "execution_count": 8,
   "id": "e9d354f0-4476-47f2-a185-3c8c4db4aa1b",
   "metadata": {},
   "outputs": [
    {
     "name": "stdout",
     "output_type": "stream",
     "text": [
      "0.9103154593927696\n",
      "p-value = 0.015155591078390984\n",
      "Data is Not Normally Distributed \n"
     ]
    }
   ],
   "source": [
    "# Is the salary column normally distributed\n",
    "stat , p = shapiro(df['Salary'])\n",
    "print(stat)\n",
    "if p > 0.05:\n",
    "    print(f'p-value = {p}')\n",
    "    print('Data is Normally Distributed ')\n",
    "else:\n",
    "    print(f'p-value = {p}')\n",
    "    print('Data is Not Normally Distributed ')"
   ]
  },
  {
   "cell_type": "code",
   "execution_count": 9,
   "id": "ea81affb-ca7a-46a9-9cfa-f25121126d3f",
   "metadata": {},
   "outputs": [
    {
     "name": "stdout",
     "output_type": "stream",
     "text": [
      "0.9420625539372643\n",
      "p-value = 0.10337645734315726\n",
      "Data is Normally Distributed\n"
     ]
    }
   ],
   "source": [
    "# Is the  experience column normally distributed\n",
    "stat1 , p1 = shapiro(df['YearsExperience'])\n",
    "print(stat1)\n",
    "if p1 > 0.05:\n",
    "    print(F'p-value = {p1}')\n",
    "    print('Data is Normally Distributed')\n",
    "else:\n",
    "    print(f'p-value = {p1}')\n",
    "    print('Data is Not Normally Distributed')"
   ]
  },
  {
   "cell_type": "code",
   "execution_count": 10,
   "id": "d8412b9f-8820-4e41-843d-50e322667f9f",
   "metadata": {},
   "outputs": [
    {
     "name": "stdout",
     "output_type": "stream",
     "text": [
      "Pearson Correlation test\n",
      "Correlation Cofficient :  0.978242\n",
      "p-value =  0.00\n",
      "Data is Correlated ( Reject H0)\n"
     ]
    }
   ],
   "source": [
    "# Are both column correlated \n",
    "d = df['Salary']\n",
    "h = df['YearsExperience']\n",
    "r3 , p3 = pearsonr(d,h)\n",
    "print('Pearson Correlation test')\n",
    "print(f'Correlation Cofficient : {r3 : 2f}')\n",
    "\n",
    "if p3 > 0.05:\n",
    "    print(F'p-value = {p3 : .2f }')\n",
    "    print('Data is Not Correlated (Fail to Reject H0)')\n",
    "else:\n",
    "    print(f'p-value = {p3 : .2f}')\n",
    "    print('Data is Correlated ( Reject H0)')"
   ]
  },
  {
   "cell_type": "code",
   "execution_count": 11,
   "id": "744adbae-e62f-4e64-8ae5-4c3cfbfb542d",
   "metadata": {},
   "outputs": [
    {
     "name": "stdout",
     "output_type": "stream",
     "text": [
      "Pearson Correlation test\n",
      "Correlation Cofficient :  0.96\n",
      "p-value =  0.00\n",
      "Data is  Correlated (  Reject H0)\n"
     ]
    }
   ],
   "source": [
    "d = df['Salary']\n",
    "h = df['YearsExperience']\n",
    "r4 , p4 = spearmanr(d,h)\n",
    "print('Pearson Correlation test')\n",
    "print(f'Correlation Cofficient : {r4 : .2f}')\n",
    "\n",
    "if p4 > 0.05:\n",
    "    print(F'p-value = {p4 : .2f}')\n",
    "    print('Data is not Correlated (Fail to Reject H0)')\n",
    "else:\n",
    "    print(f'p-value = {p4 : .2f}')\n",
    "    print('Data is  Correlated (  Reject H0)')"
   ]
  },
  {
   "cell_type": "code",
   "execution_count": 12,
   "id": "a448662a-9f87-4d22-a0ef-8ffd39680f55",
   "metadata": {},
   "outputs": [],
   "source": [
    "list = [9,45,74,25,11,54,78,34,78,54,78,4545,845,1548,54845,4474,245,45,49,20]\n",
    "assumed_mean = 7000\n",
    "from scipy.stats import ttest_1samp\n",
    "import numpy as np"
   ]
  },
  {
   "cell_type": "code",
   "execution_count": 13,
   "id": "a3ddb2bc-d11c-4aa4-908a-903a13a02215",
   "metadata": {},
   "outputs": [
    {
     "name": "stdout",
     "output_type": "stream",
     "text": [
      "The P-value is : 0.19749445103709828\n",
      "The mean of the sample is the same as the assumed mean\n"
     ]
    }
   ],
   "source": [
    "stat , p = ttest_1samp(list , assumed_mean)\n",
    "\n",
    "if p > 0.05:\n",
    "    print(f'The P-value is : {p}')\n",
    "    print('The mean of the sample is the same as the assumed mean')\n",
    "else:\n",
    "    print(f'The P-value is : {p}')\n",
    "    print('The mean of the sample is different from assumed mean')"
   ]
  },
  {
   "cell_type": "code",
   "execution_count": 14,
   "id": "861c9011-1bd4-4fa7-96eb-cb7891c33de6",
   "metadata": {},
   "outputs": [
    {
     "name": "stdout",
     "output_type": "stream",
     "text": [
      "The mean of the sample is : 3357.8\n"
     ]
    }
   ],
   "source": [
    "\n",
    "mean = np.mean(list)\n",
    "print(f'The mean of the sample is : {mean}')"
   ]
  },
  {
   "cell_type": "code",
   "execution_count": 15,
   "id": "10b2c131-7745-45bc-bdd2-46b45cf47147",
   "metadata": {},
   "outputs": [],
   "source": [
    "from scipy.stats import ttest_ind"
   ]
  },
  {
   "cell_type": "code",
   "execution_count": 16,
   "id": "69a26dc0-6105-4318-855c-7e7e3fb8c7f0",
   "metadata": {},
   "outputs": [
    {
     "name": "stdout",
     "output_type": "stream",
     "text": [
      "The pvalue is : 0.23318878452820718\n",
      "The mean of both sample are the different\n"
     ]
    }
   ],
   "source": [
    "list2 = [12,45,74,6,554,45,74,57,65,96,78,81,25,78,85,98,78,41,-587,63]\n",
    "stat1 , p1 = ttest_ind(list , list2)\n",
    "if p1 > 0.05:\n",
    "    print(f'The pvalue is : {p1}')\n",
    "    print('The mean of both sample are the different')\n",
    "else:\n",
    "    print(f'The P-value is : {p1}')\n",
    "    print('The mean of both the samples are same')"
   ]
  },
  {
   "cell_type": "code",
   "execution_count": 17,
   "id": "498e013f-638e-46b3-9937-9ad6a150fd03",
   "metadata": {},
   "outputs": [
    {
     "name": "stdout",
     "output_type": "stream",
     "text": [
      "p-value : 0.14482366668908472\n",
      "The Samples are relative \n"
     ]
    }
   ],
   "source": [
    "from scipy.stats import ttest_rel\n",
    "datab = [45,54,74,78,65]\n",
    "dataa = [46,56,76,86,86]\n",
    "p = ttest_rel(datab , dataa)[1]\n",
    "if p > 0.05:\n",
    "    print(f'p-value : {p}')\n",
    "    print('The Samples are relative ')\n",
    "else:\n",
    "    print(f'p-value : {p}')\n",
    "    print('The Samples are not relative')"
   ]
  },
  {
   "cell_type": "code",
   "execution_count": 18,
   "id": "3ddc6266-c76b-429a-82bc-fccfae24d4c1",
   "metadata": {},
   "outputs": [
    {
     "data": {
      "text/html": [
       "<div>\n",
       "<style scoped>\n",
       "    .dataframe tbody tr th:only-of-type {\n",
       "        vertical-align: middle;\n",
       "    }\n",
       "\n",
       "    .dataframe tbody tr th {\n",
       "        vertical-align: top;\n",
       "    }\n",
       "\n",
       "    .dataframe thead th {\n",
       "        text-align: right;\n",
       "    }\n",
       "</style>\n",
       "<table border=\"1\" class=\"dataframe\">\n",
       "  <thead>\n",
       "    <tr style=\"text-align: right;\">\n",
       "      <th></th>\n",
       "      <th>Pregnancies</th>\n",
       "      <th>Glucose</th>\n",
       "      <th>BloodPressure</th>\n",
       "      <th>SkinThickness</th>\n",
       "      <th>Insulin</th>\n",
       "      <th>BMI</th>\n",
       "      <th>DiabetesPedigreeFunction</th>\n",
       "      <th>Age</th>\n",
       "      <th>Outcome</th>\n",
       "    </tr>\n",
       "  </thead>\n",
       "  <tbody>\n",
       "    <tr>\n",
       "      <th>0</th>\n",
       "      <td>6</td>\n",
       "      <td>148</td>\n",
       "      <td>72</td>\n",
       "      <td>35</td>\n",
       "      <td>0</td>\n",
       "      <td>33.6</td>\n",
       "      <td>0.627</td>\n",
       "      <td>50</td>\n",
       "      <td>1</td>\n",
       "    </tr>\n",
       "    <tr>\n",
       "      <th>1</th>\n",
       "      <td>1</td>\n",
       "      <td>85</td>\n",
       "      <td>66</td>\n",
       "      <td>29</td>\n",
       "      <td>0</td>\n",
       "      <td>26.6</td>\n",
       "      <td>0.351</td>\n",
       "      <td>31</td>\n",
       "      <td>0</td>\n",
       "    </tr>\n",
       "    <tr>\n",
       "      <th>2</th>\n",
       "      <td>8</td>\n",
       "      <td>183</td>\n",
       "      <td>64</td>\n",
       "      <td>0</td>\n",
       "      <td>0</td>\n",
       "      <td>23.3</td>\n",
       "      <td>0.672</td>\n",
       "      <td>32</td>\n",
       "      <td>1</td>\n",
       "    </tr>\n",
       "    <tr>\n",
       "      <th>3</th>\n",
       "      <td>1</td>\n",
       "      <td>89</td>\n",
       "      <td>66</td>\n",
       "      <td>23</td>\n",
       "      <td>94</td>\n",
       "      <td>28.1</td>\n",
       "      <td>0.167</td>\n",
       "      <td>21</td>\n",
       "      <td>0</td>\n",
       "    </tr>\n",
       "    <tr>\n",
       "      <th>4</th>\n",
       "      <td>0</td>\n",
       "      <td>137</td>\n",
       "      <td>40</td>\n",
       "      <td>35</td>\n",
       "      <td>168</td>\n",
       "      <td>43.1</td>\n",
       "      <td>2.288</td>\n",
       "      <td>33</td>\n",
       "      <td>1</td>\n",
       "    </tr>\n",
       "  </tbody>\n",
       "</table>\n",
       "</div>"
      ],
      "text/plain": [
       "   Pregnancies  Glucose  BloodPressure  SkinThickness  Insulin   BMI  \\\n",
       "0            6      148             72             35        0  33.6   \n",
       "1            1       85             66             29        0  26.6   \n",
       "2            8      183             64              0        0  23.3   \n",
       "3            1       89             66             23       94  28.1   \n",
       "4            0      137             40             35      168  43.1   \n",
       "\n",
       "   DiabetesPedigreeFunction  Age  Outcome  \n",
       "0                     0.627   50        1  \n",
       "1                     0.351   31        0  \n",
       "2                     0.672   32        1  \n",
       "3                     0.167   21        0  \n",
       "4                     2.288   33        1  "
      ]
     },
     "execution_count": 18,
     "metadata": {},
     "output_type": "execute_result"
    }
   ],
   "source": [
    "data = pd.read_csv('dibetes dataset.csv')\n",
    "dataf = pd.DataFrame(data)\n",
    "dataf.head()"
   ]
  },
  {
   "cell_type": "code",
   "execution_count": 19,
   "id": "4cf4711e-a44c-401e-b88e-172bb787e76f",
   "metadata": {},
   "outputs": [
    {
     "name": "stdout",
     "output_type": "stream",
     "text": [
      "The P-value is 1.6092572358874225e-21\n",
      "Data is not normally distributed\n"
     ]
    }
   ],
   "source": [
    "dstat , dp =shapiro(dataf['Pregnancies'])\n",
    "if dp > 0.05:\n",
    "    print(f'The P-value is {dp }')\n",
    "    print('Data is normally distributed')\n",
    "else:\n",
    "    print(f'The P-value is {dp}')\n",
    "    print('Data is not normally distributed')"
   ]
  },
  {
   "cell_type": "code",
   "execution_count": 20,
   "id": "6bb3a873-d7bd-4e24-b4b1-009a1a17bc4d",
   "metadata": {},
   "outputs": [
    {
     "name": "stdout",
     "output_type": "stream",
     "text": [
      "The P-value is 1.9863474999979633e-11\n",
      "Data is not normally distributed\n"
     ]
    }
   ],
   "source": [
    "dstat1 , dp1 =shapiro(dataf['Glucose'])\n",
    "if dp1 > 0.05:\n",
    "    print(f'The P-value is {dp1 }')\n",
    "    print('Data is normally distributed')\n",
    "else:\n",
    "    print(f'The P-value is {dp1}')\n",
    "    print('Data is not normally distributed')"
   ]
  },
  {
   "cell_type": "code",
   "execution_count": 21,
   "id": "e4e62e3d-6269-4873-9b9b-dc553dc1f949",
   "metadata": {},
   "outputs": [
    {
     "name": "stdout",
     "output_type": "stream",
     "text": [
      "The P-value is 1.5841623290215717e-28\n",
      "Data is not normally distributed\n"
     ]
    }
   ],
   "source": [
    "dstat2, dp2 =shapiro(dataf['BloodPressure'])\n",
    "if dp2 > 0.05:\n",
    "    print(f'The P-value is {dp2 }')\n",
    "    print('Data is normally distributed')\n",
    "else:\n",
    "    print(f'The P-value is {dp2}')\n",
    "    print('Data is not normally distributed')"
   ]
  },
  {
   "cell_type": "code",
   "execution_count": 22,
   "id": "22ca9c9d-7492-4050-80c5-44043c381b34",
   "metadata": {},
   "outputs": [
    {
     "name": "stdout",
     "output_type": "stream",
     "text": [
      "The P-value is 1.751754164091415e-21\n",
      "Data is not normally distributed\n"
     ]
    }
   ],
   "source": [
    "dstat3, dp3=shapiro(dataf['SkinThickness'])\n",
    "if dp3 > 0.05:\n",
    "    print(f'The P-value is {dp3 }')\n",
    "    print('Data is normally distributed')\n",
    "else:\n",
    "    print(f'The P-value is {dp3}')\n",
    "    print('Data is not normally distributed')"
   ]
  },
  {
   "cell_type": "code",
   "execution_count": 23,
   "id": "03e0c91a-81a7-417c-ba61-e7315b2687c9",
   "metadata": {},
   "outputs": [
    {
     "name": "stdout",
     "output_type": "stream",
     "text": [
      "The P-value is 7.914331939766787e-34\n",
      "Data is not normally distributed\n"
     ]
    }
   ],
   "source": [
    "dstat4, dp4=shapiro(dataf['Insulin'])\n",
    "if dp4 > 0.05:\n",
    "    print(f'The P-value is {dp4 }')\n",
    "    print('Data is normally distributed')\n",
    "else:\n",
    "    print(f'The P-value is {dp4}')\n",
    "    print('Data is not normally distributed')"
   ]
  },
  {
   "cell_type": "code",
   "execution_count": 24,
   "id": "a57a6170-79c9-4acd-bade-18e963022c27",
   "metadata": {},
   "outputs": [
    {
     "name": "stdout",
     "output_type": "stream",
     "text": [
      "The P-value is 1.8416516138516335e-15\n",
      "Data is not normally distributed\n"
     ]
    }
   ],
   "source": [
    "dstat5, dp5=shapiro(dataf['BMI'])\n",
    "if dp5 > 0.05:\n",
    "    print(f'The P-value is {dp5 }')\n",
    "    print('Data is normally distributed')\n",
    "else:\n",
    "    print(f'The P-value is {dp5}')\n",
    "    print('Data is not normally distributed')"
   ]
  },
  {
   "cell_type": "code",
   "execution_count": 25,
   "id": "1a786906-7fbd-474c-bd59-9f98f94e24e7",
   "metadata": {},
   "outputs": [
    {
     "name": "stdout",
     "output_type": "stream",
     "text": [
      "The P-value is 2.477505530854268e-27\n",
      "Data is not normally distributed\n"
     ]
    }
   ],
   "source": [
    "dstat6, dp6=shapiro(dataf['DiabetesPedigreeFunction'])\n",
    "if dp6 > 0.05:\n",
    "    print(f'The P-value is {dp6 }')\n",
    "    print('Data is normally distributed')\n",
    "else:\n",
    "    print(f'The P-value is {dp6}')\n",
    "    print('Data is not normally distributed')"
   ]
  },
  {
   "cell_type": "code",
   "execution_count": 26,
   "id": "4a6aa279-0758-4158-9f30-7ff60c7ed750",
   "metadata": {},
   "outputs": [
    {
     "name": "stdout",
     "output_type": "stream",
     "text": [
      "The P-value is 2.4022741290400888e-24\n",
      "Data is not normally distributed\n"
     ]
    }
   ],
   "source": [
    "dstat7, dp7=shapiro(dataf['Age'])\n",
    "if dp7 > 0.05:\n",
    "    print(f'The P-value is {dp7 }')\n",
    "    print('Data is normally distributed')\n",
    "else:\n",
    "    print(f'The P-value is {dp7}')\n",
    "    print('Data is not normally distributed')"
   ]
  },
  {
   "cell_type": "code",
   "execution_count": 27,
   "id": "a31a5b33-4fbd-4d82-bd02-f1b4f44d1eab",
   "metadata": {},
   "outputs": [
    {
     "name": "stdout",
     "output_type": "stream",
     "text": [
      "The P-value is 1.2926899738528582e-38\n",
      "Data is not normally distributed\n"
     ]
    }
   ],
   "source": [
    "dstat8, dp8=shapiro(dataf['Outcome'])\n",
    "if dp8 > 0.05:\n",
    "    print(f'The P-value is {dp8 }')\n",
    "    print('Data is normally distributed')\n",
    "else:\n",
    "    print(f'The P-value is {dp8}')\n",
    "    print('Data is not normally distributed')"
   ]
  },
  {
   "cell_type": "code",
   "execution_count": 35,
   "id": "a1fadbab-4989-4d3f-95c7-3600bd2ad6c0",
   "metadata": {},
   "outputs": [
    {
     "name": "stdout",
     "output_type": "stream",
     "text": [
      "Pearson Correlation test\n",
      "Correlation Cofficient : -0.033523\n",
      "p-value = 0.35353460198769926\n",
      "Data is Not Correlated (Fail to Reject H0)\n"
     ]
    }
   ],
   "source": [
    "# Are both column correlated \n",
    "r , p = pearsonr(dataf['DiabetesPedigreeFunction'],dataf['Pregnancies'])\n",
    "print('Pearson Correlation test')\n",
    "print(f'Correlation Cofficient : {r : 2f}')\n",
    "\n",
    "if p > 0.05:\n",
    "    print(F'p-value = {p}')\n",
    "    print('Data is Not Correlated (Fail to Reject H0)')\n",
    "else:\n",
    "    print(f'p-value = {p}')\n",
    "    print('Data is Correlated ( Reject H0)')"
   ]
  },
  {
   "cell_type": "code",
   "execution_count": 36,
   "id": "4247b6a2-c87a-495f-9326-b306765b87ba",
   "metadata": {},
   "outputs": [
    {
     "name": "stdout",
     "output_type": "stream",
     "text": [
      "Pearson Correlation test\n",
      "Correlation Cofficient :  0.137337\n",
      "p-value = 0.00013458781437157466\n",
      "Data is Correlated ( Reject H0)\n"
     ]
    }
   ],
   "source": [
    "# Are both column correlated \n",
    "r1 , p1= pearsonr(dataf['DiabetesPedigreeFunction'],dataf['Glucose'])\n",
    "print('Pearson Correlation test')\n",
    "print(f'Correlation Cofficient : {r1 : 2f}')\n",
    "\n",
    "if p1 > 0.05:\n",
    "    print(F'p-value = {p1}')\n",
    "    print('Data is Not Correlated (Fail to Reject H0)')\n",
    "else:\n",
    "    print(f'p-value = {p1}')\n",
    "    print('Data is Correlated ( Reject H0)')"
   ]
  },
  {
   "cell_type": "code",
   "execution_count": 38,
   "id": "393e9ec1-1f19-4d96-8b5d-b989abb004e8",
   "metadata": {},
   "outputs": [
    {
     "name": "stdout",
     "output_type": "stream",
     "text": [
      "Pearson Correlation test\n",
      "Correlation Cofficient :  0.041265\n",
      "p-value = 0.2533743720192343\n",
      "Data is Not Correlated (Fail to Reject H0)\n"
     ]
    }
   ],
   "source": [
    "# Are both column correlated \n",
    "r2 , p2= pearsonr(dataf['DiabetesPedigreeFunction'],dataf['BloodPressure'])\n",
    "print('Pearson Correlation test')\n",
    "print(f'Correlation Cofficient : {r2 : 2f}')\n",
    "\n",
    "if p2 > 0.05:\n",
    "    print(F'p-value = {p2}')\n",
    "    print('Data is Not Correlated (Fail to Reject H0)')\n",
    "else:\n",
    "    print(f'p-value = {p2}')\n",
    "    print('Data is Correlated ( Reject H0)')"
   ]
  },
  {
   "cell_type": "code",
   "execution_count": 40,
   "id": "37576ac9-80a2-49fa-aa99-e67efaf25f9e",
   "metadata": {},
   "outputs": [
    {
     "name": "stdout",
     "output_type": "stream",
     "text": [
      "Pearson Correlation test\n",
      "Correlation Cofficient :  0.183928\n",
      "p-value = 2.8561794700267096e-07\n",
      "Data is Correlated ( Reject H0)\n"
     ]
    }
   ],
   "source": [
    "# Are both column correlated \n",
    "r2 , p2= pearsonr(dataf['DiabetesPedigreeFunction'],dataf['SkinThickness'])\n",
    "print('Pearson Correlation test')\n",
    "print(f'Correlation Cofficient : {r2 : 2f}')\n",
    "\n",
    "if p2 > 0.05:\n",
    "    print(F'p-value = {p2}')\n",
    "    print('Data is Not Correlated (Fail to Reject H0)')\n",
    "else:\n",
    "    print(f'p-value = {p2}')\n",
    "    print('Data is Correlated ( Reject H0)')"
   ]
  },
  {
   "cell_type": "code",
   "execution_count": 42,
   "id": "091fcd2d-7fcc-4b65-8037-0c0268805282",
   "metadata": {},
   "outputs": [
    {
     "name": "stdout",
     "output_type": "stream",
     "text": [
      "Pearson Correlation test\n",
      "Correlation Cofficient :  0.185071\n",
      "p-value = 2.4022640739424854e-07\n",
      "Data is Correlated ( Reject H0)\n"
     ]
    }
   ],
   "source": [
    "# Are both column correlated \n",
    "r3 , p3= pearsonr(dataf['DiabetesPedigreeFunction'],dataf['Insulin'])\n",
    "print('Pearson Correlation test')\n",
    "print(f'Correlation Cofficient : {r3 : 2f}')\n",
    "\n",
    "if p3 > 0.05:\n",
    "    print(F'p-value = {p3}')\n",
    "    print('Data is Not Correlated (Fail to Reject H0)')\n",
    "else:\n",
    "    print(f'p-value = {p3}')\n",
    "    print('Data is Correlated ( Reject H0)')"
   ]
  },
  {
   "cell_type": "code",
   "execution_count": 43,
   "id": "61302462-6e27-485f-8e6f-785ffc16608a",
   "metadata": {},
   "outputs": [
    {
     "name": "stdout",
     "output_type": "stream",
     "text": [
      "Pearson Correlation test\n",
      "Correlation Cofficient :  0.140647\n",
      "p-value = 9.197970126957359e-05\n",
      "Data is Correlated ( Reject H0)\n"
     ]
    }
   ],
   "source": [
    "# Are both column correlated \n",
    "r4 , p4= pearsonr(dataf['DiabetesPedigreeFunction'],dataf['BMI'])\n",
    "print('Pearson Correlation test')\n",
    "print(f'Correlation Cofficient : {r4 : 2f}')\n",
    "\n",
    "if p4> 0.05:\n",
    "    print(F'p-value = {p4}')\n",
    "    print('Data is Not Correlated (Fail to Reject H0)')\n",
    "else:\n",
    "    print(f'p-value = {p4}')\n",
    "    print('Data is Correlated ( Reject H0)')"
   ]
  },
  {
   "cell_type": "code",
   "execution_count": 44,
   "id": "3cfb39fb-a9f2-46cb-b6b4-f4cfa0e4f66f",
   "metadata": {},
   "outputs": [
    {
     "name": "stdout",
     "output_type": "stream",
     "text": [
      "Pearson Correlation test\n",
      "Correlation Cofficient :  0.033561\n",
      "p-value = 0.3529797336668882\n",
      "Data is Not Correlated (Fail to Reject H0)\n"
     ]
    }
   ],
   "source": [
    "# Are both column correlated \n",
    "r5 , p5= pearsonr(dataf['DiabetesPedigreeFunction'],dataf['Age'])\n",
    "print('Pearson Correlation test')\n",
    "print(f'Correlation Cofficient : {r5 : 2f}')\n",
    "\n",
    "if p5 > 0.05:\n",
    "    print(F'p-value = {p5}')\n",
    "    print('Data is Not Correlated (Fail to Reject H0)')\n",
    "else:\n",
    "    print(f'p-value = {p5}')\n",
    "    print('Data is Correlated ( Reject H0)')"
   ]
  },
  {
   "cell_type": "code",
   "execution_count": 46,
   "id": "03866913-62e9-464d-bfbf-9fd34526b36e",
   "metadata": {},
   "outputs": [
    {
     "name": "stdout",
     "output_type": "stream",
     "text": [
      "Pearson Correlation test\n",
      "Correlation Cofficient :  0.173844\n",
      "p-value = 1.2546070101487771e-06\n",
      "Data is Correlated ( Reject H0)\n"
     ]
    }
   ],
   "source": [
    "# Are both column correlated \n",
    "r6 , p6= pearsonr(dataf['DiabetesPedigreeFunction'],dataf['Outcome'])\n",
    "print('Pearson Correlation test')\n",
    "print(f'Correlation Cofficient : {r6 : 2f}')\n",
    "\n",
    "if p6 > 0.05:\n",
    "    print(F'p-value = {p6}')\n",
    "    print('Data is Not Correlated (Fail to Reject H0)')\n",
    "else:\n",
    "    print(f'p-value = {p6}')\n",
    "    print('Data is Correlated ( Reject H0)')"
   ]
  },
  {
   "cell_type": "code",
   "execution_count": null,
   "id": "be3d50ab-abe6-41e0-bd89-9299ab67e900",
   "metadata": {},
   "outputs": [],
   "source": []
  }
 ],
 "metadata": {
  "kernelspec": {
   "display_name": "Python 3 (ipykernel)",
   "language": "python",
   "name": "python3"
  },
  "language_info": {
   "codemirror_mode": {
    "name": "ipython",
    "version": 3
   },
   "file_extension": ".py",
   "mimetype": "text/x-python",
   "name": "python",
   "nbconvert_exporter": "python",
   "pygments_lexer": "ipython3",
   "version": "3.12.4"
  }
 },
 "nbformat": 4,
 "nbformat_minor": 5
}
